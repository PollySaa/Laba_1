{
  "nbformat": 4,
  "nbformat_minor": 0,
  "metadata": {
    "colab": {
      "provenance": [],
      "authorship_tag": "ABX9TyMeuuJmBfVRbfjJPjTL5eU2",
      "include_colab_link": true
    },
    "kernelspec": {
      "name": "python3",
      "display_name": "Python 3"
    },
    "language_info": {
      "name": "python"
    }
  },
  "cells": [
    {
      "cell_type": "markdown",
      "metadata": {
        "id": "view-in-github",
        "colab_type": "text"
      },
      "source": [
        "<a href=\"https://colab.research.google.com/github/PollySaa/Laba_1/blob/main/1_laba_II.ipynb\" target=\"_parent\"><img src=\"https://colab.research.google.com/assets/colab-badge.svg\" alt=\"Open In Colab\"/></a>"
      ]
    },
    {
      "cell_type": "markdown",
      "source": [
        "**1. Базовые типы переменных**"
      ],
      "metadata": {
        "id": "mtzLtZ3htqNs"
      }
    },
    {
      "cell_type": "code",
      "execution_count": null,
      "metadata": {
        "id": "aUYx5gI-ban3"
      },
      "outputs": [],
      "source": [
        "int_variable = 1\n",
        "assert isinstance(int_variable, int)\n",
        "\n",
        "float_variable = 2.5\n",
        "assert isinstance(float_variable, float)\n",
        "\n",
        "string_variable = 'good'\n",
        "assert isinstance(string_variable, str)\n",
        "\n",
        "bool_variable = True\n",
        "assert isinstance(bool_variable, bool)\n",
        "\n",
        "list_variable = [1, 2, 3, 4, 5]\n",
        "assert isinstance(list_variable, list)\n",
        "\n",
        "tuple_variable = (1, 2, 'hi')\n",
        "assert isinstance(tuple_variable, tuple)\n",
        "\n",
        "set_variable = {1, 2, 3, 4, 5, 3}\n",
        "assert isinstance(set_variable, set)\n",
        "\n",
        "dict_variable = {'name': 'Anna', 'city': 'Moscow', 'age': '17'}\n",
        "assert isinstance(dict_variable, dict)"
      ]
    },
    {
      "cell_type": "markdown",
      "source": [
        "**2.1 Различные функции**"
      ],
      "metadata": {
        "id": "jxTvFrO5toNn"
      }
    },
    {
      "cell_type": "code",
      "source": [
        "import math\n",
        "\n",
        "def difference_of_two_numbers(first, second):\n",
        "    \"\"\"Возвращает разницу между первым и вторым аргументом\"\"\"\n",
        "    return first - second\n",
        "\n",
        "assert difference_of_two_numbers(2, 1) == 1\n",
        "assert difference_of_two_numbers(4, 1) == 3\n",
        "assert difference_of_two_numbers(10, 0) == 10\n",
        "assert difference_of_two_numbers(-5, -6) == 1"
      ],
      "metadata": {
        "id": "G1O-_qaXt1RN"
      },
      "execution_count": null,
      "outputs": []
    },
    {
      "cell_type": "code",
      "source": [
        "def condition_function(input_number):\n",
        "    \"\"\"\n",
        "    Если входное число меньше либо равно 0, то умножить его на 2.\n",
        "    В противном случае, если число больше 0, но меньше или равно 10, умножить на 3.\n",
        "    Во всех прочих случаях поделить на 10.\n",
        "    \"\"\"\n",
        "    if input_number <= 0:\n",
        "      return input_number * 2\n",
        "    elif input_number > 0 and input_number <= 10:\n",
        "      return input_number * 3\n",
        "    else:\n",
        "      return input_number / 10\n",
        "\n",
        "assert condition_function(0) == 0\n",
        "assert condition_function(-1) == -2\n",
        "assert condition_function(1) == 3\n",
        "assert condition_function(10) == 30\n",
        "assert condition_function(11) == 1.1\n",
        "assert condition_function(20) == 2"
      ],
      "metadata": {
        "id": "TUN6f7kKt4pi"
      },
      "execution_count": null,
      "outputs": []
    },
    {
      "cell_type": "code",
      "source": [
        "def calculator(number_1, operation, number_2):\n",
        "    \"\"\"\n",
        "    Простой оператор, способный выполнять операции +, -, *, /.\n",
        "    На входе первое число, операция в виде строки и второе число.\n",
        "\n",
        "    Пример:\n",
        "    >>> calculator(1, \"+\", 1)\n",
        "    >>> 2\n",
        "    \"\"\"\n",
        "    if operation == \"+\":\n",
        "      return number_1 + number_2\n",
        "    elif operation == \"-\":\n",
        "      return number_1 - number_2\n",
        "    elif operation == \"*\":\n",
        "      return number_1 * number_2\n",
        "    else:\n",
        "      return number_1 / number_2\n",
        "\n",
        "assert calculator(1, \"+\", 2) == 3\n",
        "assert calculator(3, \"-\", 1) == 2\n",
        "assert calculator(4, \"*\", 3) == 12\n",
        "assert calculator(2, \"/\", 2) == 1"
      ],
      "metadata": {
        "id": "xtVE1im8t6-Y"
      },
      "execution_count": null,
      "outputs": []
    },
    {
      "cell_type": "code",
      "source": [
        "def number_of_unique_elements(input_list):\n",
        "    \"\"\"\n",
        "    Считает количество уникальных элементов в листе.\n",
        "    \"\"\"\n",
        "    setList = set(input_list)\n",
        "    return len(setList)\n",
        "\n",
        "\n",
        "assert number_of_unique_elements([1, 2, 3]) == 3\n",
        "assert number_of_unique_elements([1] * 93) == 1\n",
        "assert number_of_unique_elements(list(range(1000))) == 1000"
      ],
      "metadata": {
        "id": "RTD-V5tFuC1E"
      },
      "execution_count": null,
      "outputs": []
    },
    {
      "cell_type": "code",
      "source": [
        "def counter(input_list):\n",
        "    \"\"\"\n",
        "    Считает количество вхождений каждого из элементов листа.\n",
        "    Возвращает словарь вида {число: количество вхождений}\n",
        "    \"\"\"\n",
        "    result = {}\n",
        "    for item in input_list:\n",
        "        if item in result:\n",
        "            result[item] += 1\n",
        "        else:\n",
        "            result[item] = 1\n",
        "    return result\n",
        "\n",
        "# Тесты\n",
        "assert counter([1, 1, 1, 2, 3]) == {1: 3, 2: 1, 3: 1}\n",
        "assert counter([1] * 1000) == {1: 1000}\n",
        "assert counter([1, 3, 5] * 100) == {1: 100, 3: 100, 5: 100}"
      ],
      "metadata": {
        "id": "2dyl3iGYuFvo"
      },
      "execution_count": null,
      "outputs": []
    },
    {
      "cell_type": "code",
      "source": [
        "def multiply_nums(input_string):\n",
        "    \"\"\"\n",
        "    Перемножить числа, переданные в строке, перечисленные через запятую.\n",
        "\n",
        "    hint: можно использовать метод .split()\n",
        "    \"\"\"\n",
        "    result = 1\n",
        "    list = input_string.split(\",\")\n",
        "    for str in list:\n",
        "      result *= int(str)\n",
        "    return result\n",
        "\n",
        "\n",
        "assert multiply_nums(\"2, 3\") == 6\n",
        "assert multiply_nums(\"1, 1, 1, 1, 1, 1, 1\") == 1\n",
        "assert multiply_nums(\"345, 4576, 794, 325, 0\") == 0"
      ],
      "metadata": {
        "id": "MCo32AaruIpc"
      },
      "execution_count": null,
      "outputs": []
    },
    {
      "cell_type": "code",
      "source": [
        "def custom_function(x):\n",
        "    \"\"\"\n",
        "    Реализуйте функцию, описанную выше.\n",
        "    \"\"\"\n",
        "    return math.sin(x) * math.cos(x)\n",
        "\n",
        "assert round(custom_function(1), 3) == 0.455\n",
        "assert round(custom_function(1.5), 3) == 0.071\n",
        "assert round(custom_function(2), 3) == -0.378\n",
        "assert custom_function(0) == 0"
      ],
      "metadata": {
        "id": "v2fSi1D3uLnG"
      },
      "execution_count": null,
      "outputs": []
    },
    {
      "cell_type": "code",
      "source": [
        "def custom_function_1(x, n):\n",
        "    \"\"\"\n",
        "    Реализуйте функцию, описанную выше.\n",
        "    \"\"\"\n",
        "    result = 1\n",
        "    for i in range(1, n + 1):\n",
        "        result *= (((i + 2)**x + math.log(x)) / (x**2 + 4 * i))\n",
        "    return result\n",
        "\n",
        "\n",
        "assert round(custom_function_1(2, 3), 3) == 2.707\n",
        "assert round(custom_function_1(3, 2), 3) == 8.277\n",
        "assert round(custom_function_1(3, 3), 3) == 49.7"
      ],
      "metadata": {
        "id": "s2HaHj6_b0v8"
      },
      "execution_count": null,
      "outputs": []
    },
    {
      "cell_type": "markdown",
      "source": [
        "**2.2 Задачки на написание функций**"
      ],
      "metadata": {
        "id": "JHFPSErnuTRk"
      }
    },
    {
      "cell_type": "markdown",
      "source": [
        "1. Дано число n. С начала суток прошло n минут. Определите, сколько часов и минут будут показывать электронные часы в этот момент. Программа должна вывести два числа: количество часов (от 0 до 23) и количество минут (от 0 до 59). Учтите, что число n может быть больше, чем количество минут в сутках."
      ],
      "metadata": {
        "id": "Z4iTWYHNuUhp"
      }
    },
    {
      "cell_type": "code",
      "source": [
        "def time_converter(n):\n",
        "  hours = n // 60\n",
        "  minutes = n % 60\n",
        "  hours %= 24\n",
        "  return f\"{hours} {minutes}\"\n",
        "\n",
        "\n",
        "assert time_converter(2782) == '22 22'\n",
        "assert time_converter(4733) == '6 53'\n",
        "assert time_converter(1766) == '5 26'\n",
        "assert time_converter(3865) == '16 25'\n",
        "assert time_converter(4628) == '5 8'\n",
        "assert time_converter(4353) == '0 33'\n",
        "assert time_converter(268) == '4 28'\n",
        "assert time_converter(4373) == '0 53'\n",
        "assert time_converter(2722) == '21 22'\n",
        "assert time_converter(1531) == '1 31'"
      ],
      "metadata": {
        "id": "wb0Rd4eEuhZE"
      },
      "execution_count": null,
      "outputs": []
    },
    {
      "cell_type": "markdown",
      "source": [
        "2. Написать функцию, которая выводит минимум из трех чисел. Использовать min нельзя. Только if."
      ],
      "metadata": {
        "id": "DlXA-LQrum9I"
      }
    },
    {
      "cell_type": "code",
      "source": [
        "def min_of_three_values(n, m, k):\n",
        "  min = n\n",
        "  if min > n:\n",
        "    min = n\n",
        "  elif min > m:\n",
        "    min = m\n",
        "  elif min > k:\n",
        "    min = k\n",
        "  return min\n",
        "\n",
        "assert min_of_three_values(1, 2, 3) == 1\n",
        "assert min_of_three_values(1, 1, 9) == 1\n",
        "assert min_of_three_values(18, 7, 11) == 7\n",
        "assert min_of_three_values(2, 10, 10) == 2\n",
        "assert min_of_three_values(17, 14, 17) == 14\n",
        "assert min_of_three_values(9, 2, 10) == 2\n",
        "assert min_of_three_values(7, 4, 7) == 4\n",
        "assert min_of_three_values(0, 8, 3) == 0\n",
        "assert min_of_three_values(8, 10, 6) == 6\n",
        "assert min_of_three_values(1, 4, 8) == 1"
      ],
      "metadata": {
        "id": "RlpamBXLunRQ"
      },
      "execution_count": null,
      "outputs": []
    },
    {
      "cell_type": "markdown",
      "source": [
        "3. Удаление символа из строки. Необходимо использовать встроенный метод .replac()"
      ],
      "metadata": {
        "id": "CS9ivV_2uwKl"
      }
    },
    {
      "cell_type": "code",
      "source": [
        "def remove_symbol(str, simb):\n",
        "  return str.replace(simb, '')\n",
        "\n",
        "assert remove_symbol('aaaaaaaa', 'a') == ''\n",
        "assert remove_symbol('abababa', 'b') == 'aaaa'\n",
        "assert remove_symbol('12341234', '3') == '124124'"
      ],
      "metadata": {
        "id": "XByTPlkuuwZy"
      },
      "execution_count": null,
      "outputs": []
    },
    {
      "cell_type": "markdown",
      "source": [
        "4. Удаление каждого 3 символа из строки"
      ],
      "metadata": {
        "id": "fF7SLC8wu25-"
      }
    },
    {
      "cell_type": "code",
      "source": [
        "def remove_each_third_sym(str):\n",
        "  result = str[0:2]  # Берем первые два символа\n",
        "  for i in range(3, len(str), 3):  # Проходим по строке с шагом 3, начиная с индекса 3\n",
        "    if i + 1 < len(str):  # Проверяем, не вышли ли за пределы строки\n",
        "      result += str[i:i + 2]  # Добавляем в результат два символа после пропускаемого\n",
        "  return result\n",
        "\n",
        "\n",
        "assert remove_each_third_sym('abcdef') == 'abde'\n",
        "assert remove_each_third_sym('sdfasdfasdfsfa') == 'sdasfadffa'\n",
        "assert remove_each_third_sym('123456789') == '124578'\n",
        "assert remove_each_third_sym('987654321') == '986532'"
      ],
      "metadata": {
        "id": "pOyGvty-u2_4"
      },
      "execution_count": null,
      "outputs": []
    },
    {
      "cell_type": "markdown",
      "source": [
        "5. Вывести максимальный элемент и его индекс в листе"
      ],
      "metadata": {
        "id": "wJUS4gxHu_ms"
      }
    },
    {
      "cell_type": "code",
      "source": [
        "def find_max(lis):\n",
        "  max = lis[0]\n",
        "  index = 0\n",
        "  for i in range(0, len(lis)):\n",
        "    if max < lis[i]:\n",
        "      max = lis[i]\n",
        "      index = i\n",
        "  return max, index\n",
        "\n",
        "assert find_max([1, 2, 3, 4, 5]) == (5, 4)\n",
        "assert find_max([5, 4, 3, 2, 1]) == (5, 0)\n",
        "assert find_max([96, 82, 72, 48, 93, 88, 79]) == (96, 0)\n",
        "assert find_max([49, 75, 65, 65, 65, 18]) == (75, 1)\n",
        "assert find_max([69, 16, 64, 54, 36, 70, 89, 29]) == (89, 6)\n",
        "assert find_max([17, 80, 27, 36, 21, 85, 63, 27]) == (85, 5)\n",
        "assert find_max([76, 27, 73, 65, 52]) == (76, 0)\n",
        "assert find_max([33, 26, 69, 40, 93]) == (93, 4)\n",
        "assert find_max([87, 5, 95, 52, 21, 76, 22]) == (95, 2)\n",
        "assert find_max([75, 18, 89, 99, 70]) == (99, 3)"
      ],
      "metadata": {
        "id": "PFfEvxFiu_yg"
      },
      "execution_count": null,
      "outputs": []
    },
    {
      "cell_type": "markdown",
      "source": [
        "6. Вставить элемент в конец листа. Использовать метод append можно и нужно"
      ],
      "metadata": {
        "id": "HkCkn3RHvHDI"
      }
    },
    {
      "cell_type": "code",
      "source": [
        "def append_to_list(lis, n):\n",
        "  lis.append(n)\n",
        "  return lis\n",
        "\n",
        "assert append_to_list([1, 2], 3) == [1, 2, 3]\n",
        "assert append_to_list([1, 2], None) == [1, 2, None]\n",
        "assert append_to_list([1, 's'], True) == [1, 's', True]"
      ],
      "metadata": {
        "id": "oIjFh8C4vHKS"
      },
      "execution_count": null,
      "outputs": []
    },
    {
      "cell_type": "markdown",
      "source": [
        "7. Количество уникальных чисел в листе. Нужно использовать множества (set)"
      ],
      "metadata": {
        "id": "zqqmTENtwhS6"
      }
    },
    {
      "cell_type": "code",
      "source": [
        "def number_unique_elements(lis):\n",
        "  setList = set(lis)\n",
        "  return len(setList)\n",
        "\n",
        "assert number_unique_elements([1, 2, 3]) == 3\n",
        "assert number_unique_elements([1, 2, 1]) == 2\n",
        "assert number_unique_elements([1, 1, 1, 1]) == 1\n",
        "assert number_unique_elements([1, 2, 1, 2]) == 2"
      ],
      "metadata": {
        "id": "9bVVl4upvtLx"
      },
      "execution_count": null,
      "outputs": []
    },
    {
      "cell_type": "markdown",
      "source": [
        "**3. Классы**"
      ],
      "metadata": {
        "id": "MyFCr20VwiOq"
      }
    },
    {
      "cell_type": "markdown",
      "source": [
        "1. Напишите класс Vehicle с двумя атрибутами -- максимальная скорость (max_speed) и пробег (mileage)\n",
        "Необходимо реализовать только метод-конструктор __init__"
      ],
      "metadata": {
        "id": "8bI7w8eBxtGM"
      }
    },
    {
      "cell_type": "code",
      "source": [
        "class Vehicle:\n",
        "    max_speed = 0\n",
        "    mileage = 0\n",
        "\n",
        "    def __init__(self, max_speed, mileage):\n",
        "      self.max_speed = max_speed\n",
        "      self.mileage = mileage\n",
        "\n",
        "\n",
        "veh1 = Vehicle(100, 50)\n",
        "assert (veh1.max_speed, veh1.mileage) == (100, 50)\n",
        "\n",
        "veh2 = Vehicle(200, 3)\n",
        "assert (veh2.max_speed, veh2.mileage) == (200, 3)"
      ],
      "metadata": {
        "id": "sLPUbNvC1Z-L"
      },
      "execution_count": null,
      "outputs": []
    },
    {
      "cell_type": "markdown",
      "source": [
        "2. Напишите класс Truck, который наследуется от Vehicle\n",
        "P.S. Наследование возможно при помощи конструкции class Subclass(MotherClass):"
      ],
      "metadata": {
        "id": "2MQhKtUDwjRn"
      }
    },
    {
      "cell_type": "code",
      "source": [
        "class Vehicle:\n",
        "    def __init__(self, max_speed, mileage):\n",
        "        self.max_speed = max_speed\n",
        "        self.mileage = mileage\n",
        "\n",
        "class Truck(Vehicle):\n",
        "    pass\n",
        "\n",
        "truck1 = Truck(50, 1000)\n",
        "assert (truck1.max_speed, truck1.mileage) == (50, 1000)\n",
        "\n",
        "truck2 = Truck(43, 235)\n",
        "assert (truck2.max_speed, truck2.mileage) == (43, 235)"
      ],
      "metadata": {
        "id": "W6iZ1mj52Pz-"
      },
      "execution_count": null,
      "outputs": []
    },
    {
      "cell_type": "markdown",
      "source": [
        "3. Напишите класс MyList с функционалом, как описано ниже"
      ],
      "metadata": {
        "id": "-bmQbXOmwkyd"
      }
    },
    {
      "cell_type": "code",
      "source": [
        "class MyList:\n",
        "    def __init__(self, list_in):\n",
        "        self.list_in = list_in\n",
        "\n",
        "    def return_sum(self):\n",
        "        \"\"\"\n",
        "        Возвращает сумму всех элементов сохраненного листа.\n",
        "        Пользоваться sum нельзя!\n",
        "        \"\"\"\n",
        "        sum = 0\n",
        "        for element in self.list_in:\n",
        "            sum += element\n",
        "        return sum\n",
        "\n",
        "    def make_reverse(self):\n",
        "        \"\"\"\n",
        "        Разворачивает сохраненный лист.\n",
        "        \"\"\"\n",
        "        reversed_list = []\n",
        "        for i in range(len(self.list_in)-1, -1, -1):\n",
        "            reversed_list.append(self.list_in[i])\n",
        "        return reversed_list\n",
        "\n",
        "    def make_slice(self, start, stop):\n",
        "        \"\"\"\n",
        "        Делает слайсинг сохраненного листа.\n",
        "        \"\"\"\n",
        "        sliced_list = []\n",
        "        for i in range(start, stop):\n",
        "            sliced_list.append(self.list_in[i])\n",
        "        return sliced_list\n",
        "\n",
        "\n",
        "a = MyList([1, 2, 3, 4])\n",
        "assert a.return_sum() == 10\n",
        "assert a.make_reverse() == [4, 3, 2, 1]\n",
        "assert a.make_slice(0, 2) == [1, 2]\n",
        "\n",
        "b = MyList([5, 6, 6, 5])\n",
        "assert b.return_sum() == 22\n",
        "assert b.make_reverse() == [5, 6, 6, 5]\n",
        "assert b.make_slice(1, 2) == [6]"
      ],
      "metadata": {
        "id": "8YNGLaeq2lnY"
      },
      "execution_count": null,
      "outputs": []
    }
  ]
}